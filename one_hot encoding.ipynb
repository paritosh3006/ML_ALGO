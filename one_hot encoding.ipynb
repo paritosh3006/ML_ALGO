{
 "cells": [
  {
   "cell_type": "code",
   "execution_count": 72,
   "metadata": {
    "collapsed": true
   },
   "outputs": [],
   "source": [
    "import pandas as pd"
   ]
  },
  {
   "cell_type": "code",
   "execution_count": 73,
   "metadata": {},
   "outputs": [],
   "source": [
    "s=pd.Series(list('abc'))"
   ]
  },
  {
   "cell_type": "code",
   "execution_count": 74,
   "metadata": {},
   "outputs": [
    {
     "data": {
      "text/html": [
       "<div>\n",
       "<style scoped>\n",
       "    .dataframe tbody tr th:only-of-type {\n",
       "        vertical-align: middle;\n",
       "    }\n",
       "\n",
       "    .dataframe tbody tr th {\n",
       "        vertical-align: top;\n",
       "    }\n",
       "\n",
       "    .dataframe thead th {\n",
       "        text-align: right;\n",
       "    }\n",
       "</style>\n",
       "<table border=\"1\" class=\"dataframe\">\n",
       "  <thead>\n",
       "    <tr style=\"text-align: right;\">\n",
       "      <th></th>\n",
       "      <th>a</th>\n",
       "      <th>b</th>\n",
       "      <th>c</th>\n",
       "    </tr>\n",
       "  </thead>\n",
       "  <tbody>\n",
       "    <tr>\n",
       "      <th>0</th>\n",
       "      <td>1</td>\n",
       "      <td>0</td>\n",
       "      <td>0</td>\n",
       "    </tr>\n",
       "    <tr>\n",
       "      <th>1</th>\n",
       "      <td>0</td>\n",
       "      <td>1</td>\n",
       "      <td>0</td>\n",
       "    </tr>\n",
       "    <tr>\n",
       "      <th>2</th>\n",
       "      <td>0</td>\n",
       "      <td>0</td>\n",
       "      <td>1</td>\n",
       "    </tr>\n",
       "  </tbody>\n",
       "</table>\n",
       "</div>"
      ],
      "text/plain": [
       "   a  b  c\n",
       "0  1  0  0\n",
       "1  0  1  0\n",
       "2  0  0  1"
      ]
     },
     "execution_count": 74,
     "metadata": {},
     "output_type": "execute_result"
    }
   ],
   "source": [
    "pd.get_dummies(s)"
   ]
  },
  {
   "cell_type": "code",
   "execution_count": 75,
   "metadata": {
    "collapsed": true
   },
   "outputs": [],
   "source": [
    "# transform a given column into one hot\n",
    "\n",
    "import pandas as pd\n",
    "\n",
    "df = pd.DataFrame({\n",
    "          'A':['a','b','c'],\n",
    "          'B':['d','e','f']\n",
    "        })"
   ]
  },
  {
   "cell_type": "code",
   "execution_count": 76,
   "metadata": {},
   "outputs": [
    {
     "data": {
      "text/html": [
       "<div>\n",
       "<style scoped>\n",
       "    .dataframe tbody tr th:only-of-type {\n",
       "        vertical-align: middle;\n",
       "    }\n",
       "\n",
       "    .dataframe tbody tr th {\n",
       "        vertical-align: top;\n",
       "    }\n",
       "\n",
       "    .dataframe thead th {\n",
       "        text-align: right;\n",
       "    }\n",
       "</style>\n",
       "<table border=\"1\" class=\"dataframe\">\n",
       "  <thead>\n",
       "    <tr style=\"text-align: right;\">\n",
       "      <th></th>\n",
       "      <th>A</th>\n",
       "      <th>B</th>\n",
       "    </tr>\n",
       "  </thead>\n",
       "  <tbody>\n",
       "    <tr>\n",
       "      <th>0</th>\n",
       "      <td>a</td>\n",
       "      <td>d</td>\n",
       "    </tr>\n",
       "    <tr>\n",
       "      <th>1</th>\n",
       "      <td>b</td>\n",
       "      <td>e</td>\n",
       "    </tr>\n",
       "    <tr>\n",
       "      <th>2</th>\n",
       "      <td>c</td>\n",
       "      <td>f</td>\n",
       "    </tr>\n",
       "  </tbody>\n",
       "</table>\n",
       "</div>"
      ],
      "text/plain": [
       "   A  B\n",
       "0  a  d\n",
       "1  b  e\n",
       "2  c  f"
      ]
     },
     "execution_count": 76,
     "metadata": {},
     "output_type": "execute_result"
    }
   ],
   "source": [
    "df"
   ]
  },
  {
   "cell_type": "code",
   "execution_count": 77,
   "metadata": {
    "collapsed": true
   },
   "outputs": [],
   "source": [
    "# Get one hot encoding of columns A\n",
    "one_hot = pd.get_dummies(df['A'])"
   ]
  },
  {
   "cell_type": "code",
   "execution_count": 78,
   "metadata": {
    "collapsed": true
   },
   "outputs": [],
   "source": [
    "# Drop column A as it is now encoded\n",
    "df = df.drop('A',axis = 1)"
   ]
  },
  {
   "cell_type": "code",
   "execution_count": 79,
   "metadata": {
    "collapsed": true
   },
   "outputs": [],
   "source": [
    "# Join the encoded df\n",
    "df = df.join(one_hot)"
   ]
  },
  {
   "cell_type": "code",
   "execution_count": 80,
   "metadata": {},
   "outputs": [
    {
     "name": "stdout",
     "output_type": "stream",
     "text": [
      "   B  a  b  c\n",
      "0  d  1  0  0\n",
      "1  e  0  1  0\n",
      "2  f  0  0  1\n"
     ]
    }
   ],
   "source": [
    "print (df)"
   ]
  },
  {
   "cell_type": "code",
   "execution_count": 48,
   "metadata": {},
   "outputs": [
    {
     "data": {
      "text/html": [
       "<div>\n",
       "<style scoped>\n",
       "    .dataframe tbody tr th:only-of-type {\n",
       "        vertical-align: middle;\n",
       "    }\n",
       "\n",
       "    .dataframe tbody tr th {\n",
       "        vertical-align: top;\n",
       "    }\n",
       "\n",
       "    .dataframe thead th {\n",
       "        text-align: right;\n",
       "    }\n",
       "</style>\n",
       "<table border=\"1\" class=\"dataframe\">\n",
       "  <thead>\n",
       "    <tr style=\"text-align: right;\">\n",
       "      <th></th>\n",
       "      <th>label_a</th>\n",
       "      <th>label_b</th>\n",
       "      <th>label_c</th>\n",
       "    </tr>\n",
       "  </thead>\n",
       "  <tbody>\n",
       "    <tr>\n",
       "      <th>0</th>\n",
       "      <td>1</td>\n",
       "      <td>0</td>\n",
       "      <td>0</td>\n",
       "    </tr>\n",
       "    <tr>\n",
       "      <th>1</th>\n",
       "      <td>0</td>\n",
       "      <td>1</td>\n",
       "      <td>0</td>\n",
       "    </tr>\n",
       "    <tr>\n",
       "      <th>2</th>\n",
       "      <td>1</td>\n",
       "      <td>0</td>\n",
       "      <td>0</td>\n",
       "    </tr>\n",
       "    <tr>\n",
       "      <th>3</th>\n",
       "      <td>0</td>\n",
       "      <td>0</td>\n",
       "      <td>1</td>\n",
       "    </tr>\n",
       "    <tr>\n",
       "      <th>4</th>\n",
       "      <td>1</td>\n",
       "      <td>1</td>\n",
       "      <td>0</td>\n",
       "    </tr>\n",
       "    <tr>\n",
       "      <th>5</th>\n",
       "      <td>1</td>\n",
       "      <td>0</td>\n",
       "      <td>0</td>\n",
       "    </tr>\n",
       "    <tr>\n",
       "      <th>6</th>\n",
       "      <td>1</td>\n",
       "      <td>0</td>\n",
       "      <td>1</td>\n",
       "    </tr>\n",
       "  </tbody>\n",
       "</table>\n",
       "</div>"
      ],
      "text/plain": [
       "   label_a  label_b  label_c\n",
       "0        1        0        0\n",
       "1        0        1        0\n",
       "2        1        0        0\n",
       "3        0        0        1\n",
       "4        1        1        0\n",
       "5        1        0        0\n",
       "6        1        0        1"
      ]
     },
     "execution_count": 48,
     "metadata": {},
     "output_type": "execute_result"
    }
   ],
   "source": [
    "import numpy as np\n",
    "import pandas as pd\n",
    "labels = np.array(['a', 'b', 'a', 'c', 'ab', 'a', 'ac'])\n",
    "df = pd.DataFrame(labels, columns=['label'])\n",
    "ndf = pd.get_dummies(df)\n",
    "ndf.label_a = ndf.label_a + ndf.label_ab + ndf.label_ac\n",
    "ndf.label_b = ndf.label_b + ndf.label_ab\n",
    "ndf.label_c = ndf.label_c + ndf.label_ac\n",
    "ndf = ndf.drop(['label_ab', 'label_ac'], axis=1)\n",
    "ndf\n"
   ]
  },
  {
   "cell_type": "code",
   "execution_count": 49,
   "metadata": {},
   "outputs": [
    {
     "data": {
      "text/html": [
       "<div>\n",
       "<style scoped>\n",
       "    .dataframe tbody tr th:only-of-type {\n",
       "        vertical-align: middle;\n",
       "    }\n",
       "\n",
       "    .dataframe tbody tr th {\n",
       "        vertical-align: top;\n",
       "    }\n",
       "\n",
       "    .dataframe thead th {\n",
       "        text-align: right;\n",
       "    }\n",
       "</style>\n",
       "<table border=\"1\" class=\"dataframe\">\n",
       "  <thead>\n",
       "    <tr style=\"text-align: right;\">\n",
       "      <th></th>\n",
       "      <th>label_a</th>\n",
       "      <th>label_b</th>\n",
       "      <th>label_c</th>\n",
       "    </tr>\n",
       "  </thead>\n",
       "  <tbody>\n",
       "    <tr>\n",
       "      <th>0</th>\n",
       "      <td>1</td>\n",
       "      <td>0</td>\n",
       "      <td>0</td>\n",
       "    </tr>\n",
       "    <tr>\n",
       "      <th>1</th>\n",
       "      <td>0</td>\n",
       "      <td>1</td>\n",
       "      <td>0</td>\n",
       "    </tr>\n",
       "    <tr>\n",
       "      <th>2</th>\n",
       "      <td>1</td>\n",
       "      <td>0</td>\n",
       "      <td>0</td>\n",
       "    </tr>\n",
       "    <tr>\n",
       "      <th>3</th>\n",
       "      <td>0</td>\n",
       "      <td>0</td>\n",
       "      <td>1</td>\n",
       "    </tr>\n",
       "    <tr>\n",
       "      <th>4</th>\n",
       "      <td>1</td>\n",
       "      <td>1</td>\n",
       "      <td>0</td>\n",
       "    </tr>\n",
       "    <tr>\n",
       "      <th>5</th>\n",
       "      <td>1</td>\n",
       "      <td>0</td>\n",
       "      <td>0</td>\n",
       "    </tr>\n",
       "    <tr>\n",
       "      <th>6</th>\n",
       "      <td>1</td>\n",
       "      <td>0</td>\n",
       "      <td>1</td>\n",
       "    </tr>\n",
       "  </tbody>\n",
       "</table>\n",
       "</div>"
      ],
      "text/plain": [
       "   label_a  label_b  label_c\n",
       "0        1        0        0\n",
       "1        0        1        0\n",
       "2        1        0        0\n",
       "3        0        0        1\n",
       "4        1        1        0\n",
       "5        1        0        0\n",
       "6        1        0        1"
      ]
     },
     "execution_count": 49,
     "metadata": {},
     "output_type": "execute_result"
    }
   ],
   "source": [
    "import numpy as np\n",
    "import pandas as pd\n",
    "labels = np.array(['a', 'b', 'a', 'c', 'ab', 'a', 'ac'])\n",
    "df = pd.DataFrame(labels, columns=['label'])\n",
    "ndf = pd.get_dummies(df)\n",
    "ndf.label_a = ndf.label_a + ndf.label_ab + ndf.label_ac\n",
    "ndf.label_b = ndf.label_b + ndf.label_ab\n",
    "ndf.label_c = ndf.label_c + ndf.label_ac\n",
    "ndf = ndf.drop(['label_ab', 'label_ac'], axis=1)\n",
    "ndf\n"
   ]
  },
  {
   "cell_type": "code",
   "execution_count": 13,
   "metadata": {
    "collapsed": true
   },
   "outputs": [],
   "source": [
    "import pandas as pd"
   ]
  },
  {
   "cell_type": "code",
   "execution_count": 29,
   "metadata": {},
   "outputs": [],
   "source": [
    "X_train=pd.read_csv(\"C:\\Python27/X_train.csv\")\n",
    "Y_train=pd.read_csv(\"C:\\Python27/Y_train.csv\")"
   ]
  },
  {
   "cell_type": "code",
   "execution_count": 30,
   "metadata": {},
   "outputs": [],
   "source": [
    "X_test=pd.read_csv(\"C:\\Python27/X_test.csv\")\n",
    "Y_test=pd.read_csv(\"C:\\Python27/X_test.csv\")"
   ]
  },
  {
   "cell_type": "code",
   "execution_count": 31,
   "metadata": {},
   "outputs": [
    {
     "name": "stdout",
     "output_type": "stream",
     "text": [
      "    Loan_ID Gender Married Dependents Education Self_Employed  \\\n",
      "0  LP001032   Male      No          0  Graduate            No   \n",
      "1  LP001824   Male     Yes          1  Graduate            No   \n",
      "2  LP002928   Male     Yes          0  Graduate            No   \n",
      "3  LP001814   Male     Yes          2  Graduate            No   \n",
      "4  LP002244   Male     Yes          0  Graduate            No   \n",
      "\n",
      "   ApplicantIncome  CoapplicantIncome  LoanAmount  Loan_Amount_Term  \\\n",
      "0             4950                0.0         125               360   \n",
      "1             2882             1843.0         123               480   \n",
      "2             3000             3416.0          56               180   \n",
      "3             9703                0.0         112               360   \n",
      "4             2333             2417.0         136               360   \n",
      "\n",
      "   Credit_History Property_Area  \n",
      "0               1         Urban  \n",
      "1               1     Semiurban  \n",
      "2               1     Semiurban  \n",
      "3               1         Urban  \n",
      "4               1         Urban  \n"
     ]
    }
   ],
   "source": [
    "print (X_train.head())"
   ]
  },
  {
   "cell_type": "code",
   "execution_count": 34,
   "metadata": {},
   "outputs": [],
   "source": [
    " import matplotlib.pyplot as plt"
   ]
  },
  {
   "cell_type": "code",
   "execution_count": 35,
   "metadata": {},
   "outputs": [
    {
     "data": {
      "image/png": "[encoded data removed]",
      "text/plain": [
       "<matplotlib.figure.Figure at 0x92ae400>"
      ]
     },
     "metadata": {},
     "output_type": "display_data"
    },
    {
     "data": {
      "image/png": "[encoded data removed]",
      "text/plain": [
       "<matplotlib.figure.Figure at 0x957f940>"
      ]
     },
     "metadata": {},
     "output_type": "display_data"
    },
    {
     "data": {
      "image/png": "[encoded data removed]",
      "text/plain": [
       "<matplotlib.figure.Figure at 0x974beb8>"
      ]
     },
     "metadata": {},
     "output_type": "display_data"
    },
    {
     "data": {
      "image/png": "[encoded data removed]",
      "text/plain": [
       "<matplotlib.figure.Figure at 0x9a33e10>"
      ]
     },
     "metadata": {},
     "output_type": "display_data"
    },
    {
     "data": {
      "image/png": "[encoded data removed]",
      "text/plain": [
       "<matplotlib.figure.Figure at 0xa9dfd30>"
      ]
     },
     "metadata": {},
     "output_type": "display_data"
    },
    {
     "data": {
      "image/png": "[encoded data removed]",
      "text/plain": [
       "<matplotlib.figure.Figure at 0xb03ae10>"
      ]
     },
     "metadata": {},
     "output_type": "display_data"
    },
    {
     "data": {
      "image/png": "[encoded data removed]",
      "text/plain": [
       "<matplotlib.figure.Figure at 0xb6eb860>"
      ]
     },
     "metadata": {},
     "output_type": "display_data"
    },
    {
     "data": {
      "image/png": "[encoded data removed]",
      "text/plain": [
       "<matplotlib.figure.Figure at 0xca02550>"
      ]
     },
     "metadata": {},
     "output_type": "display_data"
    },
    {
     "data": {
      "image/png": "[encoded data removed]",
      "text/plain": [
       "<matplotlib.figure.Figure at 0xd198f28>"
      ]
     },
     "metadata": {},
     "output_type": "display_data"
    },
    {
     "ename": "ValueError",
     "evalue": "The truth value of a DataFrame is ambiguous. Use a.empty, a.bool(), a.item(), a.any() or a.all().",
     "output_type": "error",
     "traceback": [
      "\u001b[0;31m---------------------------------------------------------------------------\u001b[0m",
      "\u001b[0;31mValueError\u001b[0m                                Traceback (most recent call last)",
      "\u001b[0;32m<ipython-input-35-2a2c8b52c241>\u001b[0m in \u001b[0;36m<module>\u001b[0;34m()\u001b[0m\n\u001b[1;32m      1\u001b[0m X_train[X_train.dtypes[(X_train.dtypes==\"float64\")|(X_train.dtypes==\"int64\")]\n\u001b[1;32m      2\u001b[0m                         .index.values].hist(figsize=[5,5])\n\u001b[0;32m----> 3\u001b[0;31m \u001b[0mplt\u001b[0m\u001b[1;33m.\u001b[0m\u001b[0mshow\u001b[0m\u001b[1;33m(\u001b[0m\u001b[0mX_train\u001b[0m\u001b[1;33m)\u001b[0m\u001b[1;33m\u001b[0m\u001b[0m\n\u001b[0m",
      "\u001b[0;32mC:\\Program Files (x86)\\ana\\lib\\site-packages\\matplotlib\\pyplot.pyc\u001b[0m in \u001b[0;36mshow\u001b[0;34m(*args, **kw)\u001b[0m\n\u001b[1;32m    251\u001b[0m     \"\"\"\n\u001b[1;32m    252\u001b[0m     \u001b[1;32mglobal\u001b[0m \u001b[0m_show\u001b[0m\u001b[1;33m\u001b[0m\u001b[0m\n\u001b[0;32m--> 253\u001b[0;31m     \u001b[1;32mreturn\u001b[0m \u001b[0m_show\u001b[0m\u001b[1;33m(\u001b[0m\u001b[1;33m*\u001b[0m\u001b[0margs\u001b[0m\u001b[1;33m,\u001b[0m \u001b[1;33m**\u001b[0m\u001b[0mkw\u001b[0m\u001b[1;33m)\u001b[0m\u001b[1;33m\u001b[0m\u001b[0m\n\u001b[0m\u001b[1;32m    254\u001b[0m \u001b[1;33m\u001b[0m\u001b[0m\n\u001b[1;32m    255\u001b[0m \u001b[1;33m\u001b[0m\u001b[0m\n",
      "\u001b[0;32mC:\\Program Files (x86)\\ana\\lib\\site-packages\\ipykernel\\pylab\\backend_inline.py\u001b[0m in \u001b[0;36mshow\u001b[0;34m(close, block)\u001b[0m\n\u001b[1;32m     39\u001b[0m         \u001b[1;31m# only call close('all') if any to close\u001b[0m\u001b[1;33m\u001b[0m\u001b[1;33m\u001b[0m\u001b[0m\n\u001b[1;32m     40\u001b[0m         \u001b[1;31m# close triggers gc.collect, which can be slow\u001b[0m\u001b[1;33m\u001b[0m\u001b[1;33m\u001b[0m\u001b[0m\n\u001b[0;32m---> 41\u001b[0;31m         \u001b[1;32mif\u001b[0m \u001b[0mclose\u001b[0m \u001b[1;32mand\u001b[0m \u001b[0mGcf\u001b[0m\u001b[1;33m.\u001b[0m\u001b[0mget_all_fig_managers\u001b[0m\u001b[1;33m(\u001b[0m\u001b[1;33m)\u001b[0m\u001b[1;33m:\u001b[0m\u001b[1;33m\u001b[0m\u001b[0m\n\u001b[0m\u001b[1;32m     42\u001b[0m             \u001b[0mmatplotlib\u001b[0m\u001b[1;33m.\u001b[0m\u001b[0mpyplot\u001b[0m\u001b[1;33m.\u001b[0m\u001b[0mclose\u001b[0m\u001b[1;33m(\u001b[0m\u001b[1;34m'all'\u001b[0m\u001b[1;33m)\u001b[0m\u001b[1;33m\u001b[0m\u001b[0m\n\u001b[1;32m     43\u001b[0m \u001b[1;33m\u001b[0m\u001b[0m\n",
      "\u001b[0;32mC:\\Users\\Sony\\AppData\\Roaming\\Python\\Python27\\site-packages\\pandas\\core\\generic.pyc\u001b[0m in \u001b[0;36m__nonzero__\u001b[0;34m(self)\u001b[0m\n\u001b[1;32m   1574\u001b[0m         raise ValueError(\"The truth value of a {0} is ambiguous. \"\n\u001b[1;32m   1575\u001b[0m                          \u001b[1;34m\"Use a.empty, a.bool(), a.item(), a.any() or a.all().\"\u001b[0m\u001b[1;33m\u001b[0m\u001b[0m\n\u001b[0;32m-> 1576\u001b[0;31m                          .format(self.__class__.__name__))\n\u001b[0m\u001b[1;32m   1577\u001b[0m \u001b[1;33m\u001b[0m\u001b[0m\n\u001b[1;32m   1578\u001b[0m     \u001b[0m__bool__\u001b[0m \u001b[1;33m=\u001b[0m \u001b[0m__nonzero__\u001b[0m\u001b[1;33m\u001b[0m\u001b[0m\n",
      "\u001b[0;31mValueError\u001b[0m: The truth value of a DataFrame is ambiguous. Use a.empty, a.bool(), a.item(), a.any() or a.all()."
     ]
    }
   ],
   "source": [
    "X_train[X_train.dtypes[(X_train.dtypes==\"float64\")|(X_train.dtypes==\"int64\")]\n",
    "                        .index.values].hist(figsize=[5,5])\n",
    "plt.show(X_train)"
   ]
  },
  {
   "cell_type": "code",
   "execution_count": 48,
   "metadata": {},
   "outputs": [],
   "source": [
    "#create a sentiment analysis algorithm.\n",
    "import nltk\n",
    "import random\n",
    "from nltk.corpus import movie_reviews"
   ]
  },
  {
   "cell_type": "code",
   "execution_count": 69,
   "metadata": {},
   "outputs": [
    {
     "name": "stdout",
     "output_type": "stream",
     "text": [
      "([u'eddie', u'murphy', u'has', u'a', u'lot', u'riding', u'on', u'harlem', u'nights', u'.', u'as', u'the', u'movie', u\"'\", u's', u'writer', u',', u'director', u',', u'executive', u'producer', u',', u'and', u'star', u',', u'murphy', u'will', u'shoulder', u'all', u'of', u'the', u'blame', u'if', u'harlem', u'nights', u'fails', u'.', u'but', u'at', u'the', u'same', u'time', u',', u'he', u\"'\", u'll', u'receive', u'all', u'of', u'the', u'credit', u'if', u'it', u'succeeds', u'.', u'should', u'you', u'sacrifice', u'your', u'hard', u'-', u'earned', u'cash', u'to', u'support', u'murphy', u\"'\", u's', u'risky', u'gamble', u'?', u'well', u',', u'that', u'depends', u'on', u'whom', u'you', u'trust', u'more', u':', u'me', u'or', u'eddie', u'murphy', u'.', u'here', u\"'\", u's', u'what', u'murphy', u'thinks', u':', u'\"', u'i', u'think', u'the', u'audience', u'is', u'expecting', u'a', u'good', u'time', u'.', u'they', u'gonna', u'get', u'sexy', u'.', u'they', u'gonna', u'get', u'funny', u'.', u'they', u'gonna', u'get', u'drama', u'.', u'they', u'gonna', u'get', u'all', u'of', u'that', u'.', u'i', u'think', u'it', u\"'\", u's', u'the', u'best', u'movie', u'i', u\"'\", u've', u'done', u'\"', u'(', u'paramount', u'radio', u'network', u')', u'.', u'here', u\"'\", u's', u'what', u'i', u'think', u':', u'harlem', u'nights', u'is', u'charmless', u',', u'unoriginal', u',', u'disappointing', u',', u'and', u'almost', u'without', u'question', u',', u'the', u'worst', u'film', u'of', u'the', u'actor', u\"'\", u's', u'career', u'(', u'i', u'haven', u\"'\", u't', u'seen', u'best', u'defense', u')', u'.', u'and', u'guess', u'who', u\"'\", u's', u'to', u'blame', u'?', u'!', u'the', u'movie', u\"'\", u's', u'problem', u'is', u'not', u'murphy', u\"'\", u's', u'direction', u':', u'harlem', u'nights', u'is', u'a', u'fairly', u'good', u'looking', u'film', u'.', u'no', u',', u'the', u'project', u'was', u'probably', u'doomed', u'even', u'before', u'the', u'cameras', u'rolled', u'.', u'murphy', u\"'\", u's', u'awful', u'script', u'is', u'the', u'culprit', u'.', u'let', u\"'\", u's', u'count', u'the', u'mistakes', u'he', u'makes', u'in', u'his', u'first', u'attempt', u'at', u'screenwriting', u':', u'(', u'1', u')', u'murphy', u'shatters', u'the', u'record', u'for', u'the', u'most', u'profanity', u'in', u'a', u'motion', u'picture', u'.', u'yes', u',', u'he', u'even', u'outdoes', u'his', u'own', u'work', u'in', u'raw', u'.', u'practically', u'every', u'line', u'of', u'dialogue', u'in', u'harlem', u'nights', u'contains', u'at', u'least', u'one', u'four', u'letter', u'word', u'.', u'and', u'after', u'15', u'minutes', u',', u'it', u'gets', u'irritating', u'.', u'(', u'2', u')', u'murphy', u'wastes', u'the', u'talents', u'of', u'his', u'fine', u'cast', u'.', u'richard', u'pryor', u',', u'redd', u'foxx', u',', u'michael', u'lerner', u',', u'and', u'della', u'reese', u'face', u'the', u'impossible', u'task', u'of', u'carving', u'out', u'credible', u'characters', u'from', u'a', u'script', u'riddled', u'with', u'stereotypes', u'.', u'each', u'of', u'them', u'shines', u'occasionally', u',', u'but', u'basically', u'what', u'we', u'have', u'are', u'good', u'performers', u'stuck', u'in', u'a', u'bad', u'vehicle', u'.', u'(', u'3', u')', u'the', u'movie', u'demeans', u'women', u'by', u'depicting', u'them', u'solely', u'as', u'sexual', u'objects', u'and', u'as', u'pawns', u'in', u'power', u'struggles', u'between', u'men', u'.', u'murphy', u'has', u'admitted', u'in', u'interviews', u'that', u'he', u'is', u'weary', u'of', u'women', u'in', u'his', u'private', u'life', u',', u'which', u'is', u'really', u'neither', u'here', u'nor', u'there', u'.', u'but', u'when', u'murphy', u'puts', u'his', u'bitter', u'feelings', u'on', u'3', u',', u'000', u'movie', u'screens', u'across', u'the', u'country', u',', u'it', u\"'\", u's', u'another', u'matter', u'altogether', u'.', u'you', u\"'\", u're', u'forced', u'to', u'swallow', u'some', u'pretty', u'gruesome', u'stuff', u'.', u'for', u'instance', u',', u'murphy', u'punches', u'della', u'reese', u'in', u'the', u'stomach', u'.', u'and', u'he', u'shoots', u'jasmine', u'guy', u'in', u'the', u'head', u'.', u'this', u'is', u'a', u'mean', u'-', u'spirited', u'movie', u',', u'folks', u'!', u'lovely', u'newcomer', u'lela', u'rochon', u'gets', u'off', u'easy', u'in', u'her', u'role', u'as', u'a', u'common', u'whore', u',', u'but', u'only', u'because', u'she', u'doesn', u\"'\", u't', u'have', u'any', u'scenes', u'with', u'murphy', u'.', u'thank', u'god', u':', u'he', u'might', u'have', u'run', u'her', u'over', u'with', u'a', u'bulldozer', u'.', u'(', u'4', u')', u'murphy', u'has', u'written', u'for', u'himself', u'perhaps', u'his', u'blandest', u'role', u'to', u'date', u'.', u'the', u'loveable', u'eddie', u'murphy', u'charisma', u'emerges', u'only', u'once', u'or', u'twice', u'during', u'the', u'film', u'.', u'murphy', u'would', u'rather', u'give', u'his', u'character', u'a', u'spiffy', u'wardrobe', u'than', u'a', u'spiffy', u'personality', u'.', u'sometimes', u'it', u'seems', u'as', u'if', u'murphy', u'made', u'harlem', u'nights', u'just', u'so', u'he', u'could', u'wear', u'fancy', u'suits', u'and', u'look', u'debonair', u'.', u'(', u'5', u')', u'the', u'plot', u'is', u'a', u'shameless', u'rip', u'-', u'off', u'of', u'the', u'sting', u'.', u'if', u'you', u\"'\", u're', u'going', u'to', u'make', u'another', u'sting', u'movie', u',', u'you', u\"'\", u've', u'got', u'to', u'do', u'something', u'original', u'.', u'murphy', u\"'\", u's', u'tale', u'of', u'warring', u'nightclub', u'owners', u'in', u'harlem', u'(', u'circa', u'1938', u')', u'fails', u'to', u'add', u'anything', u'new', u'to', u'the', u'formula', u'.', u'(', u'6', u')', u'to', u'get', u'laughs', u',', u'murphy', u'makes', u'fun', u'of', u'stuttering', u'.', u'you', u'know', u'a', u'comedy', u'is', u'digging', u'deep', u'when', u'it', u'resorts', u'to', u'ridiculing', u'the', u'handicapped', u'.', u'(', u'7', u')', u'murphy', u\"'\", u's', u'idea', u'of', u'drama', u'is', u'a', u'scene', u'in', u'which', u'his', u'character', u'apologizes', u'for', u'the', u'first', u'time', u'in', u'his', u'life', u'.', u'for', u'what', u'?', u'for', u'shooting', u'reese', u\"'\", u's', u'little', u'toe', u'off', u'!', u'needless', u'to', u'say', u',', u'murphy', u'shows', u'little', u',', u'if', u'any', u',', u'promise', u'or', u'imagination', u'as', u'a', u'screenwriter', u'.', u'in', u'all', u'fairness', u',', u'however', u',', u'a', u'few', u'rays', u'of', u'sunshine', u'do', u'manage', u'to', u'break', u'through', u'the', u'gloomy', u'cloud', u'surrounding', u'the', u'movie', u'.', u'danny', u'aiello', u'is', u'fun', u'to', u'watch', u'as', u'a', u'dirty', u'cop', u'on', u'the', u'take', u'.', u'aiello', u'stands', u'out', u'in', u'the', u'large', u',', u'ensemble', u'cast', u':', u'he', u'obviously', u'relishes', u'the', u'opportunity', u'to', u'play', u'such', u'a', u'nasty', u'character', u'(', u'a', u'racist', u'detective', u'with', u'mob', u'ties', u')', u'.', u'aiello', u\"'\", u's', u'zesty', u'performance', u'gives', u'harlem', u'nights', u'some', u'much', u'needed', u'spice', u'.', u'another', u'bright', u'spot', u'is', u'arsenio', u'hall', u',', u'who', u'has', u'a', u'hilarious', u',', u'show', u'-', u'stopping', u'cameo', u'as', u'a', u'cry', u'-', u'baby', u'gangster', u';', u'hall', u'virtually', u'steals', u'the', u'spotlight', u'from', u'murphy', u'.', u'in', u'fact', u',', u'hall', u\"'\", u's', u'ten', u'minutes', u'on', u'screen', u'are', u'the', u'funniest', u'ten', u'minutes', u'in', u'the', u'movie', u'.', u'unfortunately', u',', u'his', u'character', u'is', u'completely', u'irrelevant', u'to', u'the', u'plot', u';', u'murphy', u'should', u'have', u'given', u'hall', u'a', u'much', u'bigger', u'role', u'.', u'of', u'course', u',', u'i', u\"'\", u've', u'already', u'mentioned', u'that', u'i', u'didn', u\"'\", u't', u'care', u'for', u'murphy', u\"'\", u's', u'character', u',', u'but', u'i', u'have', u'to', u'admit', u'that', u'i', u'did', u'love', u'his', u'neckties', u'.', u'they', u'are', u'simply', u'spectacular', u'--', u'almost', u'worth', u'the', u'price', u'of', u'admission', u'.'], u'neg')\n"
     ]
    }
   ],
   "source": [
    "documents= [(list(movie_reviews.words(fileids)), category)\n",
    "            \n",
    "            for category in movie_reviews.categories() # reviews is neg or pos\n",
    "            for fileids in movie_reviews.fileids(category)]\n",
    "\n",
    "random.shuffle(documents) #This is because i am going to be training and testing. If i left them in order, chances are i'd train on all of the negatives, some positives, and then test only against positives\n",
    "print (documents[1])\n"
   ]
  },
  {
   "cell_type": "code",
   "execution_count": 71,
   "metadata": {},
   "outputs": [
    {
     "name": "stdout",
     "output_type": "stream",
     "text": [
      "[(u',', 77717), (u'the', 76529), (u'.', 65876), (u'a', 38106), (u'and', 35576), (u'of', 34123), (u'to', 31937), (u\"'\", 30585), (u'is', 25195), (u'in', 21822), (u's', 18513), (u'\"', 17612), (u'it', 16107), (u'that', 15924), (u'-', 15595), (u')', 11781), (u'(', 11664), (u'as', 11378), (u'with', 10792), (u'for', 9961), (u'his', 9587), (u'this', 9578), (u'film', 9517), (u'i', 8889), (u'he', 8864)]\n"
     ]
    }
   ],
   "source": [
    "all_words= []\n",
    "for w in movie_reviews.words():\n",
    "    all_words.append(w.lower())\n",
    "all_words = nltk.FreqDist(all_words)\n",
    "\n",
    "print (all_words.most_common (25))"
   ]
  },
  {
   "cell_type": "code",
   "execution_count": null,
   "metadata": {
    "collapsed": true
   },
   "outputs": [],
   "source": []
  }
 ],
 "metadata": {
  "kernelspec": {
   "display_name": "Python 3",
   "language": "python",
   "name": "python3"
  },
  "language_info": {
   "codemirror_mode": {
    "name": "ipython",
    "version": 3
   },
   "file_extension": ".py",
   "mimetype": "text/x-python",
   "name": "python",
   "nbconvert_exporter": "python",
   "pygments_lexer": "ipython3",
   "version": "3.7.0"
  }
 },
 "nbformat": 4,
 "nbformat_minor": 2
}
